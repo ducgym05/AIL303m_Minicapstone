{
 "cells": [
  {
   "cell_type": "code",
   "execution_count": 3,
   "id": "df9e9132",
   "metadata": {},
   "outputs": [
    {
     "name": "stdout",
     "output_type": "stream",
     "text": [
      "5 dòng đầu của dữ liệu đã xử lý:\n",
      "        user                        item    rating\n",
      "1  151603712  The Elder Scrolls V Skyrim  5.613128\n",
      "3  151603712                   Fallout 4  4.477337\n",
      "5  151603712                       Spore  2.766319\n",
      "7  151603712           Fallout New Vegas  2.572612\n",
      "9  151603712               Left 4 Dead 2  2.292535\n"
     ]
    }
   ],
   "source": [
    "import pandas as pd\n",
    "\n",
    "df = pd.read_csv('steam-200k.csv', header=None)\n",
    "df.columns = ['user_id', 'game_title', 'behavior_name', 'value', 'unused']\n",
    "df = df.drop('unused', axis=1)\n",
    "play_df = df[df['behavior_name'] == 'play'].copy()\n",
    "\n",
    "play_df = play_df.drop('behavior_name', axis=1)\n",
    "\n",
    "play_df.rename(columns={'user_id': 'user', 'game_title': 'item', 'value': 'rating'}, inplace=True)\n",
    "\n",
    "\n",
    "import numpy as np\n",
    "play_df['rating'] = np.log1p(play_df['rating'])\n",
    "\n",
    "print(\"5 dòng đầu của dữ liệu đã xử lý:\")\n",
    "print(play_df.head())"
   ]
  },
  {
   "cell_type": "code",
   "execution_count": 5,
   "id": "14abf178",
   "metadata": {},
   "outputs": [
    {
     "name": "stdout",
     "output_type": "stream",
     "text": [
      "\n",
      "5 dòng đầu của ma trận thưa:\n",
      "item    007 Legends  0RBITALIS  \\\n",
      "user                             \n",
      "5250            0.0        0.0   \n",
      "76767           0.0        0.0   \n",
      "86540           0.0        0.0   \n",
      "144736          0.0        0.0   \n",
      "181212          0.0        0.0   \n",
      "\n",
      "item    1... 2... 3... KICK IT! (Drop That Beat Like an Ugly Baby)  \\\n",
      "user                                                                 \n",
      "5250                                                  0.0            \n",
      "76767                                                 0.0            \n",
      "86540                                                 0.0            \n",
      "144736                                                0.0            \n",
      "181212                                                0.0            \n",
      "\n",
      "item    10 Second Ninja  10,000,000  100% Orange Juice  1000 Amps  \\\n",
      "user                                                                \n",
      "5250                0.0         0.0                0.0        0.0   \n",
      "76767               0.0         0.0                0.0        0.0   \n",
      "86540               0.0         0.0                0.0        0.0   \n",
      "144736              0.0         0.0                0.0        0.0   \n",
      "181212              0.0         0.0                0.0        0.0   \n",
      "\n",
      "item    12 Labours of Hercules  12 Labours of Hercules II The Cretan Bull  \\\n",
      "user                                                                        \n",
      "5250                       0.0                                        0.0   \n",
      "76767                      0.0                                        0.0   \n",
      "86540                      0.0                                        0.0   \n",
      "144736                     0.0                                        0.0   \n",
      "181212                     0.0                                        0.0   \n",
      "\n",
      "item    12 Labours of Hercules III Girl Power  ...  rFactor  rFactor 2  \\\n",
      "user                                           ...                       \n",
      "5250                                      0.0  ...      0.0        0.0   \n",
      "76767                                     0.0  ...      0.0        0.0   \n",
      "86540                                     0.0  ...      0.0        0.0   \n",
      "144736                                    0.0  ...      0.0        0.0   \n",
      "181212                                    0.0  ...      0.0        0.0   \n",
      "\n",
      "item    realMyst  realMyst Masterpiece Edition  resident evil 4 / biohazard 4  \\\n",
      "user                                                                            \n",
      "5250         0.0                           0.0                            0.0   \n",
      "76767        0.0                           0.0                            0.0   \n",
      "86540        0.0                           0.0                            0.0   \n",
      "144736       0.0                           0.0                            0.0   \n",
      "181212       0.0                           0.0                            0.0   \n",
      "\n",
      "item    rymdkapsel  sZone-Online  the static speaks my name  theHunter  \\\n",
      "user                                                                     \n",
      "5250           0.0           0.0                        0.0        0.0   \n",
      "76767          0.0           0.0                        0.0        0.0   \n",
      "86540          0.0           0.0                        0.0        0.0   \n",
      "144736         0.0           0.0                        0.0        0.0   \n",
      "181212         0.0           0.0                        0.0        0.0   \n",
      "\n",
      "item    theHunter Primal  \n",
      "user                      \n",
      "5250                 0.0  \n",
      "76767                0.0  \n",
      "86540                0.0  \n",
      "144736               0.0  \n",
      "181212               0.0  \n",
      "\n",
      "[5 rows x 3600 columns]\n"
     ]
    }
   ],
   "source": [
    "rating_sparse_df = play_df.pivot_table(\n",
    "    index='user',\n",
    "    columns='item',\n",
    "    values='rating',\n",
    "    aggfunc='sum'\n",
    ").fillna(0)\n",
    "\n",
    "print(\"\\n5 dòng đầu của ma trận thưa:\")\n",
    "print(rating_sparse_df.head())"
   ]
  },
  {
   "cell_type": "code",
   "execution_count": 6,
   "id": "45c7dae5",
   "metadata": {},
   "outputs": [
    {
     "name": "stdout",
     "output_type": "stream",
     "text": [
      "Computing the cosine similarity matrix...\n",
      "Done computing similarity matrix.\n",
      "\n",
      "Đánh giá mô hình bằng Surprise:\n",
      "RMSE: 1.4368\n"
     ]
    },
    {
     "data": {
      "text/plain": [
       "1.4368271770571601"
      ]
     },
     "execution_count": 6,
     "metadata": {},
     "output_type": "execute_result"
    }
   ],
   "source": [
    "from surprise import Dataset, Reader, KNNBasic\n",
    "from surprise.model_selection import train_test_split\n",
    "from surprise import accuracy\n",
    "\n",
    "\n",
    "reader = Reader(rating_scale=(play_df['rating'].min(), play_df['rating'].max()))\n",
    "\n",
    "data = Dataset.load_from_df(play_df[['user', 'item', 'rating']], reader)\n",
    "\n",
    "trainset, testset = train_test_split(data, test_size=.25)\n",
    "\n",
    "sim_options = {\n",
    "    'name': 'cosine',\n",
    "    'user_based': True\n",
    "}\n",
    "algo = KNNBasic(sim_options=sim_options)\n",
    "\n",
    "algo.fit(trainset)\n",
    "\n",
    "predictions = algo.test(testset)\n",
    "\n",
    "print(\"\\nĐánh giá mô hình bằng Surprise:\")\n",
    "accuracy.rmse(predictions)"
   ]
  },
  {
   "cell_type": "code",
   "execution_count": 8,
   "id": "a3528e62",
   "metadata": {},
   "outputs": [
    {
     "name": "stdout",
     "output_type": "stream",
     "text": [
      "\n",
      "Đánh giá mô hình tự triển khai:\n",
      "RMSE trên tập kiểm tra: 1.4567738813242601\n"
     ]
    }
   ],
   "source": [
    "from sklearn.metrics.pairwise import cosine_similarity\n",
    "from sklearn.model_selection import train_test_split as sklearn_train_test_split\n",
    "from sklearn.metrics import mean_squared_error\n",
    "import pandas as pd\n",
    "import numpy as np\n",
    "\n",
    "train_df, test_df = sklearn_train_test_split(play_df, test_size=0.25, random_state=42)\n",
    "\n",
    "train_user_item_matrix = train_df.pivot_table(index='user', columns='item', values='rating', aggfunc='sum').fillna(0)\n",
    "\n",
    "user_similarity = cosine_similarity(train_user_item_matrix)\n",
    "user_sim_df = pd.DataFrame(user_similarity, index=train_user_item_matrix.index, columns=train_user_item_matrix.index)\n",
    "\n",
    "def predict_rating(user_id, item_id, k=25):\n",
    "    if user_id not in train_user_item_matrix.index or item_id not in train_user_item_matrix.columns:\n",
    "        return train_df['rating'].mean()\n",
    "    user_sims = user_sim_df[user_id].drop(user_id)\n",
    "    users_who_rated_item = train_user_item_matrix[train_user_item_matrix[item_id] > 0].index\n",
    "\n",
    "    neighbor_sims = user_sims[user_sims.index.isin(users_who_rated_item)]\n",
    "\n",
    "    top_k_neighbors = neighbor_sims.nlargest(k)\n",
    "\n",
    "    if top_k_neighbors.empty:\n",
    "        return train_df['rating'].mean()\n",
    "\n",
    "    numerator = 0\n",
    "    denominator = 0\n",
    "    for neighbor_id, similarity in top_k_neighbors.items():\n",
    "        neighbor_rating = train_user_item_matrix.loc[neighbor_id, item_id]\n",
    "        numerator += similarity * neighbor_rating\n",
    "        denominator += similarity\n",
    "\n",
    "    if denominator == 0:\n",
    "        return train_df['rating'].mean()\n",
    "\n",
    "    return numerator / denominator\n",
    "\n",
    "print(\"\\nĐánh giá mô hình tự triển khai:\")\n",
    "test_df['predicted_rating'] = test_df.apply(lambda row: predict_rating(row['user'], row['item']), axis=1)\n",
    "\n",
    "rmse = np.sqrt(mean_squared_error(test_df['rating'], test_df['predicted_rating']))\n",
    "print(f\"RMSE trên tập kiểm tra: {rmse}\")"
   ]
  }
 ],
 "metadata": {
  "kernelspec": {
   "display_name": "Python 3",
   "language": "python",
   "name": "python3"
  },
  "language_info": {
   "codemirror_mode": {
    "name": "ipython",
    "version": 3
   },
   "file_extension": ".py",
   "mimetype": "text/x-python",
   "name": "python",
   "nbconvert_exporter": "python",
   "pygments_lexer": "ipython3",
   "version": "3.12.3"
  }
 },
 "nbformat": 4,
 "nbformat_minor": 5
}
